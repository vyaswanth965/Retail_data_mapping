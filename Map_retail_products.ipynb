{
 "cells": [
  {
   "cell_type": "code",
   "execution_count": 1,
   "metadata": {},
   "outputs": [],
   "source": [
    "import pandas as pd"
   ]
  },
  {
   "cell_type": "code",
   "execution_count": 2,
   "metadata": {},
   "outputs": [],
   "source": [
    "#Reading and Understanding data\n"
   ]
  },
  {
   "cell_type": "code",
   "execution_count": 3,
   "metadata": {},
   "outputs": [],
   "source": [
    "mf_df = pd.read_excel('manuf_data.xlsx') \n",
    "rt_df = pd.read_excel('retailer_data.xlsx') "
   ]
  },
  {
   "cell_type": "code",
   "execution_count": 4,
   "metadata": {},
   "outputs": [
    {
     "data": {
      "text/html": [
       "<div>\n",
       "<style scoped>\n",
       "    .dataframe tbody tr th:only-of-type {\n",
       "        vertical-align: middle;\n",
       "    }\n",
       "\n",
       "    .dataframe tbody tr th {\n",
       "        vertical-align: top;\n",
       "    }\n",
       "\n",
       "    .dataframe thead th {\n",
       "        text-align: right;\n",
       "    }\n",
       "</style>\n",
       "<table border=\"1\" class=\"dataframe\">\n",
       "  <thead>\n",
       "    <tr style=\"text-align: right;\">\n",
       "      <th></th>\n",
       "      <th>prod_id</th>\n",
       "      <th>Description</th>\n",
       "    </tr>\n",
       "  </thead>\n",
       "  <tbody>\n",
       "    <tr>\n",
       "      <td>0</td>\n",
       "      <td>355</td>\n",
       "      <td>Mexifiz Shampoo Intensive Repair 400ml</td>\n",
       "    </tr>\n",
       "    <tr>\n",
       "      <td>1</td>\n",
       "      <td>356</td>\n",
       "      <td>Mexifiz Shampoo Intensive Repair 400ml</td>\n",
       "    </tr>\n",
       "    <tr>\n",
       "      <td>2</td>\n",
       "      <td>381</td>\n",
       "      <td>Cbv Shampoo Moisture Rich 900ml</td>\n",
       "    </tr>\n",
       "    <tr>\n",
       "      <td>3</td>\n",
       "      <td>382</td>\n",
       "      <td>Cbv Shampoo Moisture Rich 900ml</td>\n",
       "    </tr>\n",
       "    <tr>\n",
       "      <td>4</td>\n",
       "      <td>426</td>\n",
       "      <td>Cbvery Hairspray Extra Hold 400ml</td>\n",
       "    </tr>\n",
       "  </tbody>\n",
       "</table>\n",
       "</div>"
      ],
      "text/plain": [
       "   prod_id                             Description\n",
       "0      355  Mexifiz Shampoo Intensive Repair 400ml\n",
       "1      356  Mexifiz Shampoo Intensive Repair 400ml\n",
       "2      381         Cbv Shampoo Moisture Rich 900ml\n",
       "3      382         Cbv Shampoo Moisture Rich 900ml\n",
       "4      426       Cbvery Hairspray Extra Hold 400ml"
      ]
     },
     "execution_count": 4,
     "metadata": {},
     "output_type": "execute_result"
    }
   ],
   "source": [
    "mf_df.head()"
   ]
  },
  {
   "cell_type": "code",
   "execution_count": 5,
   "metadata": {},
   "outputs": [
    {
     "data": {
      "text/html": [
       "<div>\n",
       "<style scoped>\n",
       "    .dataframe tbody tr th:only-of-type {\n",
       "        vertical-align: middle;\n",
       "    }\n",
       "\n",
       "    .dataframe tbody tr th {\n",
       "        vertical-align: top;\n",
       "    }\n",
       "\n",
       "    .dataframe thead th {\n",
       "        text-align: right;\n",
       "    }\n",
       "</style>\n",
       "<table border=\"1\" class=\"dataframe\">\n",
       "  <thead>\n",
       "    <tr style=\"text-align: right;\">\n",
       "      <th></th>\n",
       "      <th>ret_prod_id</th>\n",
       "      <th>Product_Description</th>\n",
       "    </tr>\n",
       "  </thead>\n",
       "  <tbody>\n",
       "    <tr>\n",
       "      <td>0</td>\n",
       "      <td>188</td>\n",
       "      <td>Oddaced Give Me Moisture Shampoo 250ml</td>\n",
       "    </tr>\n",
       "    <tr>\n",
       "      <td>1</td>\n",
       "      <td>334</td>\n",
       "      <td>Cbvery Freeze Hold Hairspray 400ml</td>\n",
       "    </tr>\n",
       "    <tr>\n",
       "      <td>2</td>\n",
       "      <td>328</td>\n",
       "      <td>Cbvery Firm Hold Hairspray 400ml</td>\n",
       "    </tr>\n",
       "    <tr>\n",
       "      <td>3</td>\n",
       "      <td>203</td>\n",
       "      <td>Oddaced Ultimate Hold Hairspray 400ml</td>\n",
       "    </tr>\n",
       "    <tr>\n",
       "      <td>4</td>\n",
       "      <td>324</td>\n",
       "      <td>Cbvery Extra Hold Hairspray 400ml</td>\n",
       "    </tr>\n",
       "  </tbody>\n",
       "</table>\n",
       "</div>"
      ],
      "text/plain": [
       "   ret_prod_id                     Product_Description\n",
       "0          188  Oddaced Give Me Moisture Shampoo 250ml\n",
       "1          334      Cbvery Freeze Hold Hairspray 400ml\n",
       "2          328        Cbvery Firm Hold Hairspray 400ml\n",
       "3          203   Oddaced Ultimate Hold Hairspray 400ml\n",
       "4          324       Cbvery Extra Hold Hairspray 400ml"
      ]
     },
     "execution_count": 5,
     "metadata": {},
     "output_type": "execute_result"
    }
   ],
   "source": [
    "rt_df.head()"
   ]
  },
  {
   "cell_type": "code",
   "execution_count": 6,
   "metadata": {},
   "outputs": [
    {
     "data": {
      "text/html": [
       "<div>\n",
       "<style scoped>\n",
       "    .dataframe tbody tr th:only-of-type {\n",
       "        vertical-align: middle;\n",
       "    }\n",
       "\n",
       "    .dataframe tbody tr th {\n",
       "        vertical-align: top;\n",
       "    }\n",
       "\n",
       "    .dataframe thead th {\n",
       "        text-align: right;\n",
       "    }\n",
       "</style>\n",
       "<table border=\"1\" class=\"dataframe\">\n",
       "  <thead>\n",
       "    <tr style=\"text-align: right;\">\n",
       "      <th></th>\n",
       "      <th>prod_id</th>\n",
       "      <th>Description</th>\n",
       "    </tr>\n",
       "  </thead>\n",
       "  <tbody>\n",
       "  </tbody>\n",
       "</table>\n",
       "</div>"
      ],
      "text/plain": [
       "Empty DataFrame\n",
       "Columns: [prod_id, Description]\n",
       "Index: []"
      ]
     },
     "execution_count": 6,
     "metadata": {},
     "output_type": "execute_result"
    }
   ],
   "source": [
    "mf_df[mf_df['Description'].isna()]"
   ]
  },
  {
   "cell_type": "code",
   "execution_count": 7,
   "metadata": {},
   "outputs": [
    {
     "data": {
      "text/html": [
       "<div>\n",
       "<style scoped>\n",
       "    .dataframe tbody tr th:only-of-type {\n",
       "        vertical-align: middle;\n",
       "    }\n",
       "\n",
       "    .dataframe tbody tr th {\n",
       "        vertical-align: top;\n",
       "    }\n",
       "\n",
       "    .dataframe thead th {\n",
       "        text-align: right;\n",
       "    }\n",
       "</style>\n",
       "<table border=\"1\" class=\"dataframe\">\n",
       "  <thead>\n",
       "    <tr style=\"text-align: right;\">\n",
       "      <th></th>\n",
       "      <th>ret_prod_id</th>\n",
       "      <th>Product_Description</th>\n",
       "    </tr>\n",
       "  </thead>\n",
       "  <tbody>\n",
       "  </tbody>\n",
       "</table>\n",
       "</div>"
      ],
      "text/plain": [
       "Empty DataFrame\n",
       "Columns: [ret_prod_id, Product_Description]\n",
       "Index: []"
      ]
     },
     "execution_count": 7,
     "metadata": {},
     "output_type": "execute_result"
    }
   ],
   "source": [
    "rt_df[rt_df['Product_Description'].isna()]"
   ]
  },
  {
   "cell_type": "code",
   "execution_count": 8,
   "metadata": {},
   "outputs": [
    {
     "data": {
      "text/html": [
       "<div>\n",
       "<style scoped>\n",
       "    .dataframe tbody tr th:only-of-type {\n",
       "        vertical-align: middle;\n",
       "    }\n",
       "\n",
       "    .dataframe tbody tr th {\n",
       "        vertical-align: top;\n",
       "    }\n",
       "\n",
       "    .dataframe thead th {\n",
       "        text-align: right;\n",
       "    }\n",
       "</style>\n",
       "<table border=\"1\" class=\"dataframe\">\n",
       "  <thead>\n",
       "    <tr style=\"text-align: right;\">\n",
       "      <th></th>\n",
       "      <th>prod_id</th>\n",
       "      <th>Description</th>\n",
       "    </tr>\n",
       "  </thead>\n",
       "  <tbody>\n",
       "  </tbody>\n",
       "</table>\n",
       "</div>"
      ],
      "text/plain": [
       "Empty DataFrame\n",
       "Columns: [prod_id, Description]\n",
       "Index: []"
      ]
     },
     "execution_count": 8,
     "metadata": {},
     "output_type": "execute_result"
    }
   ],
   "source": [
    "mf_df.groupby('prod_id').filter(lambda x :len(x)>1)"
   ]
  },
  {
   "cell_type": "code",
   "execution_count": 9,
   "metadata": {},
   "outputs": [
    {
     "data": {
      "text/html": [
       "<div>\n",
       "<style scoped>\n",
       "    .dataframe tbody tr th:only-of-type {\n",
       "        vertical-align: middle;\n",
       "    }\n",
       "\n",
       "    .dataframe tbody tr th {\n",
       "        vertical-align: top;\n",
       "    }\n",
       "\n",
       "    .dataframe thead th {\n",
       "        text-align: right;\n",
       "    }\n",
       "</style>\n",
       "<table border=\"1\" class=\"dataframe\">\n",
       "  <thead>\n",
       "    <tr style=\"text-align: right;\">\n",
       "      <th></th>\n",
       "      <th>prod_id</th>\n",
       "      <th>Description</th>\n",
       "    </tr>\n",
       "  </thead>\n",
       "  <tbody>\n",
       "  </tbody>\n",
       "</table>\n",
       "</div>"
      ],
      "text/plain": [
       "Empty DataFrame\n",
       "Columns: [prod_id, Description]\n",
       "Index: []"
      ]
     },
     "execution_count": 9,
     "metadata": {},
     "output_type": "execute_result"
    }
   ],
   "source": [
    "mf_df.groupby('prod_id').filter(lambda x :len(x)>1)"
   ]
  },
  {
   "cell_type": "code",
   "execution_count": 10,
   "metadata": {},
   "outputs": [
    {
     "data": {
      "text/html": [
       "<div>\n",
       "<style scoped>\n",
       "    .dataframe tbody tr th:only-of-type {\n",
       "        vertical-align: middle;\n",
       "    }\n",
       "\n",
       "    .dataframe tbody tr th {\n",
       "        vertical-align: top;\n",
       "    }\n",
       "\n",
       "    .dataframe thead th {\n",
       "        text-align: right;\n",
       "    }\n",
       "</style>\n",
       "<table border=\"1\" class=\"dataframe\">\n",
       "  <thead>\n",
       "    <tr style=\"text-align: right;\">\n",
       "      <th></th>\n",
       "      <th>prod_id</th>\n",
       "      <th>Description</th>\n",
       "    </tr>\n",
       "  </thead>\n",
       "  <tbody>\n",
       "    <tr>\n",
       "      <td>0</td>\n",
       "      <td>355</td>\n",
       "      <td>Mexifiz Shampoo Intensive Repair 400ml</td>\n",
       "    </tr>\n",
       "    <tr>\n",
       "      <td>1</td>\n",
       "      <td>356</td>\n",
       "      <td>Mexifiz Shampoo Intensive Repair 400ml</td>\n",
       "    </tr>\n",
       "    <tr>\n",
       "      <td>2</td>\n",
       "      <td>381</td>\n",
       "      <td>Cbv Shampoo Moisture Rich 900ml</td>\n",
       "    </tr>\n",
       "    <tr>\n",
       "      <td>3</td>\n",
       "      <td>382</td>\n",
       "      <td>Cbv Shampoo Moisture Rich 900ml</td>\n",
       "    </tr>\n",
       "    <tr>\n",
       "      <td>5</td>\n",
       "      <td>451</td>\n",
       "      <td>Cbv Shampoo Moisture Rich 900ml</td>\n",
       "    </tr>\n",
       "    <tr>\n",
       "      <td>...</td>\n",
       "      <td>...</td>\n",
       "      <td>...</td>\n",
       "    </tr>\n",
       "    <tr>\n",
       "      <td>349</td>\n",
       "      <td>2308</td>\n",
       "      <td>Cbv Heat Protection Spr Protect 300ml</td>\n",
       "    </tr>\n",
       "    <tr>\n",
       "      <td>354</td>\n",
       "      <td>2336</td>\n",
       "      <td>Cbv Inco Leave on Repair+protect 125ml</td>\n",
       "    </tr>\n",
       "    <tr>\n",
       "      <td>355</td>\n",
       "      <td>2337</td>\n",
       "      <td>Cbv Inco Leave on Repair+protect 125ml</td>\n",
       "    </tr>\n",
       "    <tr>\n",
       "      <td>359</td>\n",
       "      <td>2349</td>\n",
       "      <td>Twicebeaut Cond 500ml Bot Hydrat</td>\n",
       "    </tr>\n",
       "    <tr>\n",
       "      <td>360</td>\n",
       "      <td>2350</td>\n",
       "      <td>Twicebeaut Cond 500ml Bot Hydrat</td>\n",
       "    </tr>\n",
       "  </tbody>\n",
       "</table>\n",
       "<p>165 rows × 2 columns</p>\n",
       "</div>"
      ],
      "text/plain": [
       "     prod_id                             Description\n",
       "0        355  Mexifiz Shampoo Intensive Repair 400ml\n",
       "1        356  Mexifiz Shampoo Intensive Repair 400ml\n",
       "2        381         Cbv Shampoo Moisture Rich 900ml\n",
       "3        382         Cbv Shampoo Moisture Rich 900ml\n",
       "5        451         Cbv Shampoo Moisture Rich 900ml\n",
       "..       ...                                     ...\n",
       "349     2308   Cbv Heat Protection Spr Protect 300ml\n",
       "354     2336  Cbv Inco Leave on Repair+protect 125ml\n",
       "355     2337  Cbv Inco Leave on Repair+protect 125ml\n",
       "359     2349        Twicebeaut Cond 500ml Bot Hydrat\n",
       "360     2350        Twicebeaut Cond 500ml Bot Hydrat\n",
       "\n",
       "[165 rows x 2 columns]"
      ]
     },
     "execution_count": 10,
     "metadata": {},
     "output_type": "execute_result"
    }
   ],
   "source": [
    "mf_df.groupby('Description').filter(lambda x :len(x)>1)"
   ]
  },
  {
   "cell_type": "code",
   "execution_count": 11,
   "metadata": {},
   "outputs": [
    {
     "data": {
      "text/html": [
       "<div>\n",
       "<style scoped>\n",
       "    .dataframe tbody tr th:only-of-type {\n",
       "        vertical-align: middle;\n",
       "    }\n",
       "\n",
       "    .dataframe tbody tr th {\n",
       "        vertical-align: top;\n",
       "    }\n",
       "\n",
       "    .dataframe thead th {\n",
       "        text-align: right;\n",
       "    }\n",
       "</style>\n",
       "<table border=\"1\" class=\"dataframe\">\n",
       "  <thead>\n",
       "    <tr style=\"text-align: right;\">\n",
       "      <th></th>\n",
       "      <th>ret_prod_id</th>\n",
       "      <th>Product_Description</th>\n",
       "    </tr>\n",
       "  </thead>\n",
       "  <tbody>\n",
       "  </tbody>\n",
       "</table>\n",
       "</div>"
      ],
      "text/plain": [
       "Empty DataFrame\n",
       "Columns: [ret_prod_id, Product_Description]\n",
       "Index: []"
      ]
     },
     "execution_count": 11,
     "metadata": {},
     "output_type": "execute_result"
    }
   ],
   "source": [
    "rt_df.groupby('ret_prod_id').filter(lambda x :len(x)>1)"
   ]
  },
  {
   "cell_type": "code",
   "execution_count": 12,
   "metadata": {},
   "outputs": [
    {
     "data": {
      "text/html": [
       "<div>\n",
       "<style scoped>\n",
       "    .dataframe tbody tr th:only-of-type {\n",
       "        vertical-align: middle;\n",
       "    }\n",
       "\n",
       "    .dataframe tbody tr th {\n",
       "        vertical-align: top;\n",
       "    }\n",
       "\n",
       "    .dataframe thead th {\n",
       "        text-align: right;\n",
       "    }\n",
       "</style>\n",
       "<table border=\"1\" class=\"dataframe\">\n",
       "  <thead>\n",
       "    <tr style=\"text-align: right;\">\n",
       "      <th></th>\n",
       "      <th>ret_prod_id</th>\n",
       "      <th>Product_Description</th>\n",
       "    </tr>\n",
       "  </thead>\n",
       "  <tbody>\n",
       "  </tbody>\n",
       "</table>\n",
       "</div>"
      ],
      "text/plain": [
       "Empty DataFrame\n",
       "Columns: [ret_prod_id, Product_Description]\n",
       "Index: []"
      ]
     },
     "execution_count": 12,
     "metadata": {},
     "output_type": "execute_result"
    }
   ],
   "source": [
    "rt_df.groupby('Product_Description').filter(lambda x :len(x)>1)"
   ]
  },
  {
   "cell_type": "code",
   "execution_count": 13,
   "metadata": {},
   "outputs": [],
   "source": [
    "#Creating company columns"
   ]
  },
  {
   "cell_type": "code",
   "execution_count": 14,
   "metadata": {},
   "outputs": [],
   "source": [
    "n=rt_df['Product_Description'].str.split(' ',n=1,expand=True)"
   ]
  },
  {
   "cell_type": "code",
   "execution_count": 15,
   "metadata": {},
   "outputs": [],
   "source": [
    "rt_df['company']=n[0]"
   ]
  },
  {
   "cell_type": "code",
   "execution_count": 16,
   "metadata": {},
   "outputs": [],
   "source": [
    "n=mf_df['Description'].str.split(' ',n=1,expand=True)"
   ]
  },
  {
   "cell_type": "code",
   "execution_count": 17,
   "metadata": {},
   "outputs": [],
   "source": [
    "mf_df['company']=n[0]"
   ]
  },
  {
   "cell_type": "code",
   "execution_count": 18,
   "metadata": {},
   "outputs": [
    {
     "data": {
      "text/plain": [
       "['6Good',\n",
       " 'Baby',\n",
       " 'Cbv',\n",
       " 'Cbvery',\n",
       " 'Fiur',\n",
       " 'Mexifiz',\n",
       " 'Oddaced',\n",
       " 'Parrot',\n",
       " 'Sinoyez',\n",
       " 'Toz',\n",
       " 'Twicebeaut']"
      ]
     },
     "execution_count": 18,
     "metadata": {},
     "output_type": "execute_result"
    }
   ],
   "source": [
    "sorted(mf_df['company'].unique())"
   ]
  },
  {
   "cell_type": "code",
   "execution_count": 19,
   "metadata": {},
   "outputs": [],
   "source": [
    "import numpy as np\n",
    "mf_df['company'] = np.where(mf_df['company']=='Cbv','Cbvery',mf_df['company'])"
   ]
  },
  {
   "cell_type": "code",
   "execution_count": 20,
   "metadata": {},
   "outputs": [],
   "source": [
    "companies=sorted(rt_df['company'].unique())"
   ]
  },
  {
   "cell_type": "code",
   "execution_count": 21,
   "metadata": {},
   "outputs": [],
   "source": [
    "mf_df=mf_df.sort_values('company')\n",
    "rt_df=rt_df.sort_values('company')\n"
   ]
  },
  {
   "cell_type": "code",
   "execution_count": 22,
   "metadata": {},
   "outputs": [],
   "source": [
    "#Matching strigs with fuzzywuzzy"
   ]
  },
  {
   "cell_type": "code",
   "execution_count": 23,
   "metadata": {},
   "outputs": [
    {
     "name": "stderr",
     "output_type": "stream",
     "text": [
      "C:\\Users\\shanthi\\Anaconda3\\lib\\site-packages\\fuzzywuzzy\\fuzz.py:11: UserWarning: Using slow pure-python SequenceMatcher. Install python-Levenshtein to remove this warning\n",
      "  warnings.warn('Using slow pure-python SequenceMatcher. Install python-Levenshtein to remove this warning')\n"
     ]
    }
   ],
   "source": [
    "from fuzzywuzzy import fuzz\n",
    "from fuzzywuzzy import process"
   ]
  },
  {
   "cell_type": "code",
   "execution_count": 24,
   "metadata": {},
   "outputs": [],
   "source": [
    "def checker(wrong_options,correct_options):\n",
    "    names_array=[]\n",
    "    for wrong_option in wrong_options:\n",
    "        if wrong_option in correct_options:\n",
    "            names_array.append(wrong_option)\n",
    "            ratio_array.append('100')\n",
    "        else:   \n",
    "            x=process.extractBests(wrong_option,correct_options,scorer=fuzz.token_set_ratio,limit=3)\n",
    "            names_array.append([str(x[i][0])+':'+str(x[i][1]) for i in range(len(x))])\n",
    "    return names_array"
   ]
  },
  {
   "cell_type": "code",
   "execution_count": 25,
   "metadata": {},
   "outputs": [],
   "source": [
    "whole_names=[]\n",
    "for company in companies:\n",
    "    strOptions = mf_df.loc[mf_df['company']==company,'Description'].tolist()\n",
    "    str2Match = rt_df.loc[rt_df['company']==company,'Product_Description'].tolist()\n",
    "    name_match=checker(str2Match,strOptions)\n",
    "    whole_names.extend(name_match)"
   ]
  },
  {
   "cell_type": "code",
   "execution_count": 26,
   "metadata": {},
   "outputs": [
    {
     "data": {
      "text/plain": [
       "389"
      ]
     },
     "execution_count": 26,
     "metadata": {},
     "output_type": "execute_result"
    }
   ],
   "source": [
    "\n",
    "len(rt_df)"
   ]
  },
  {
   "cell_type": "code",
   "execution_count": 27,
   "metadata": {},
   "outputs": [],
   "source": [
    "rt_df['Description']=whole_names\n"
   ]
  },
  {
   "cell_type": "code",
   "execution_count": 28,
   "metadata": {},
   "outputs": [],
   "source": [
    "rt_df=rt_df.explode('Description')"
   ]
  },
  {
   "cell_type": "code",
   "execution_count": 29,
   "metadata": {},
   "outputs": [],
   "source": [
    "n=rt_df['Description'].str.split(':',expand=True)"
   ]
  },
  {
   "cell_type": "code",
   "execution_count": 30,
   "metadata": {},
   "outputs": [],
   "source": [
    "rt_df['Description']=n[0]\n",
    "rt_df['Ratio']=n[1]"
   ]
  },
  {
   "cell_type": "code",
   "execution_count": 31,
   "metadata": {},
   "outputs": [
    {
     "data": {
      "text/plain": [
       "1135"
      ]
     },
     "execution_count": 31,
     "metadata": {},
     "output_type": "execute_result"
    }
   ],
   "source": [
    "len(rt_df)"
   ]
  },
  {
   "cell_type": "code",
   "execution_count": 32,
   "metadata": {},
   "outputs": [],
   "source": [
    "rt_df=rt_df[['ret_prod_id', 'Product_Description', 'Description',\n",
    "       'Ratio']].merge(mf_df[['prod_id', 'Description']],on=['Description'])"
   ]
  },
  {
   "cell_type": "code",
   "execution_count": 33,
   "metadata": {},
   "outputs": [],
   "source": [
    "pd.set_option('display.max_columns', None)  \n",
    "pd.set_option('display.expand_frame_repr', False)\n",
    "pd.set_option('max_colwidth', -1)"
   ]
  },
  {
   "cell_type": "code",
   "execution_count": 34,
   "metadata": {},
   "outputs": [],
   "source": [
    "rt_df =rt_df.sort_values(['ret_prod_id','Ratio'])"
   ]
  },
  {
   "cell_type": "code",
   "execution_count": 35,
   "metadata": {},
   "outputs": [
    {
     "data": {
      "text/html": [
       "<div>\n",
       "<style scoped>\n",
       "    .dataframe tbody tr th:only-of-type {\n",
       "        vertical-align: middle;\n",
       "    }\n",
       "\n",
       "    .dataframe tbody tr th {\n",
       "        vertical-align: top;\n",
       "    }\n",
       "\n",
       "    .dataframe thead th {\n",
       "        text-align: right;\n",
       "    }\n",
       "</style>\n",
       "<table border=\"1\" class=\"dataframe\">\n",
       "  <thead>\n",
       "    <tr style=\"text-align: right;\">\n",
       "      <th></th>\n",
       "      <th>ret_prod_id</th>\n",
       "      <th>Product_Description</th>\n",
       "      <th>Description</th>\n",
       "      <th>Ratio</th>\n",
       "      <th>prod_id</th>\n",
       "    </tr>\n",
       "  </thead>\n",
       "  <tbody>\n",
       "    <tr>\n",
       "      <td>452</td>\n",
       "      <td>1474</td>\n",
       "      <td>6Good Skin Quench Sleeping Cream Skin Face</td>\n",
       "      <td>6Good Co Gentle Care Bot 200ml</td>\n",
       "      <td>48</td>\n",
       "      <td>1289</td>\n",
       "    </tr>\n",
       "    <tr>\n",
       "      <td>1277</td>\n",
       "      <td>1482</td>\n",
       "      <td>Cbvery Keratin Hair Conditioner</td>\n",
       "      <td>Cbv Inco Leave on Keratin 120ml</td>\n",
       "      <td>52</td>\n",
       "      <td>1778</td>\n",
       "    </tr>\n",
       "    <tr>\n",
       "      <td>1278</td>\n",
       "      <td>1482</td>\n",
       "      <td>Cbvery Keratin Hair Conditioner</td>\n",
       "      <td>Cbv Inco Leave on Keratin 120ml</td>\n",
       "      <td>52</td>\n",
       "      <td>1779</td>\n",
       "    </tr>\n",
       "    <tr>\n",
       "      <td>1269</td>\n",
       "      <td>1482</td>\n",
       "      <td>Cbvery Keratin Hair Conditioner</td>\n",
       "      <td>Cbv Hs Finishing Spr Keratin 200ml</td>\n",
       "      <td>58</td>\n",
       "      <td>846</td>\n",
       "    </tr>\n",
       "    <tr>\n",
       "      <td>1270</td>\n",
       "      <td>1482</td>\n",
       "      <td>Cbvery Keratin Hair Conditioner</td>\n",
       "      <td>Cbv Hs Finishing Spr Keratin 200ml</td>\n",
       "      <td>58</td>\n",
       "      <td>847</td>\n",
       "    </tr>\n",
       "    <tr>\n",
       "      <td>1271</td>\n",
       "      <td>1482</td>\n",
       "      <td>Cbvery Keratin Hair Conditioner</td>\n",
       "      <td>Cbv Hs Finishing Spr Keratin 200ml</td>\n",
       "      <td>58</td>\n",
       "      <td>846</td>\n",
       "    </tr>\n",
       "    <tr>\n",
       "      <td>1272</td>\n",
       "      <td>1482</td>\n",
       "      <td>Cbvery Keratin Hair Conditioner</td>\n",
       "      <td>Cbv Hs Finishing Spr Keratin 200ml</td>\n",
       "      <td>58</td>\n",
       "      <td>847</td>\n",
       "    </tr>\n",
       "    <tr>\n",
       "      <td>14</td>\n",
       "      <td>1493</td>\n",
       "      <td>Cbvery Freeze Hold 24 hour frizz control Hairspray for a professional look 400 ml pack of 6</td>\n",
       "      <td>Cbv Hairspray Freeze Hold 100ml</td>\n",
       "      <td>81</td>\n",
       "      <td>1385</td>\n",
       "    </tr>\n",
       "    <tr>\n",
       "      <td>59</td>\n",
       "      <td>1493</td>\n",
       "      <td>Cbvery Freeze Hold 24 hour frizz control Hairspray for a professional look 400 ml pack of 6</td>\n",
       "      <td>Cbv Hairspray Freeze Hold 250ml</td>\n",
       "      <td>81</td>\n",
       "      <td>1441</td>\n",
       "    </tr>\n",
       "    <tr>\n",
       "      <td>11</td>\n",
       "      <td>1493</td>\n",
       "      <td>Cbvery Freeze Hold 24 hour frizz control Hairspray for a professional look 400 ml pack of 6</td>\n",
       "      <td>Cbvery Hairspray Freeze Hold 400ml</td>\n",
       "      <td>90</td>\n",
       "      <td>489</td>\n",
       "    </tr>\n",
       "    <tr>\n",
       "      <td>376</td>\n",
       "      <td>1494</td>\n",
       "      <td>Cbvery Botanique Nourish Hair Shampoo</td>\n",
       "      <td>Cbv Shampoo Botanique Damage 400ml</td>\n",
       "      <td>67</td>\n",
       "      <td>2003</td>\n",
       "    </tr>\n",
       "    <tr>\n",
       "      <td>367</td>\n",
       "      <td>1494</td>\n",
       "      <td>Cbvery Botanique Nourish Hair Shampoo</td>\n",
       "      <td>Cbv Shampoo Botanique Nourish 400ml</td>\n",
       "      <td>83</td>\n",
       "      <td>887</td>\n",
       "    </tr>\n",
       "    <tr>\n",
       "      <td>372</td>\n",
       "      <td>1494</td>\n",
       "      <td>Cbvery Botanique Nourish Hair Shampoo</td>\n",
       "      <td>Cbv Shampoo Botanique Nourish 700ml</td>\n",
       "      <td>83</td>\n",
       "      <td>1952</td>\n",
       "    </tr>\n",
       "    <tr>\n",
       "      <td>1227</td>\n",
       "      <td>1592</td>\n",
       "      <td>Twicebeaut Coconut Water &amp; Mimosa Flower Hydro Gel 250 ML</td>\n",
       "      <td>Twicebeaut Shamp 400ml Bot Hydra</td>\n",
       "      <td>53</td>\n",
       "      <td>1568</td>\n",
       "    </tr>\n",
       "    <tr>\n",
       "      <td>1239</td>\n",
       "      <td>1592</td>\n",
       "      <td>Twicebeaut Coconut Water &amp; Mimosa Flower Hydro Gel 250 ML</td>\n",
       "      <td>Twicebeaut Cond 500ml Bot Hydrat</td>\n",
       "      <td>55</td>\n",
       "      <td>2350</td>\n",
       "    </tr>\n",
       "    <tr>\n",
       "      <td>1240</td>\n",
       "      <td>1592</td>\n",
       "      <td>Twicebeaut Coconut Water &amp; Mimosa Flower Hydro Gel 250 ML</td>\n",
       "      <td>Twicebeaut Cond 500ml Bot Hydrat</td>\n",
       "      <td>55</td>\n",
       "      <td>2349</td>\n",
       "    </tr>\n",
       "    <tr>\n",
       "      <td>1241</td>\n",
       "      <td>1592</td>\n",
       "      <td>Twicebeaut Coconut Water &amp; Mimosa Flower Hydro Gel 250 ML</td>\n",
       "      <td>Twicebeaut Cond 500ml Bot Hydrat</td>\n",
       "      <td>55</td>\n",
       "      <td>2350</td>\n",
       "    </tr>\n",
       "    <tr>\n",
       "      <td>1242</td>\n",
       "      <td>1592</td>\n",
       "      <td>Twicebeaut Coconut Water &amp; Mimosa Flower Hydro Gel 250 ML</td>\n",
       "      <td>Twicebeaut Cond 500ml Bot Hydrat</td>\n",
       "      <td>55</td>\n",
       "      <td>2349</td>\n",
       "    </tr>\n",
       "    <tr>\n",
       "      <td>985</td>\n",
       "      <td>1600</td>\n",
       "      <td>6Good SOS Clearing Booster Skin Face</td>\n",
       "      <td>6Good Co Scalp Hydration Bot 400ml</td>\n",
       "      <td>46</td>\n",
       "      <td>2398</td>\n",
       "    </tr>\n",
       "    <tr>\n",
       "      <td>186</td>\n",
       "      <td>1600</td>\n",
       "      <td>6Good SOS Clearing Booster Skin Face</td>\n",
       "      <td>6Good Shampoo Gentle Care Bot 400ml</td>\n",
       "      <td>51</td>\n",
       "      <td>1098</td>\n",
       "    </tr>\n",
       "    <tr>\n",
       "      <td>217</td>\n",
       "      <td>1600</td>\n",
       "      <td>6Good SOS Clearing Booster Skin Face</td>\n",
       "      <td>6Good Shampoo Gentle Care Bot 200ml</td>\n",
       "      <td>51</td>\n",
       "      <td>753</td>\n",
       "    </tr>\n",
       "    <tr>\n",
       "      <td>468</td>\n",
       "      <td>1601</td>\n",
       "      <td>6Good Oil Be Gone Micellar Water Skin Face</td>\n",
       "      <td>6Good Co Gentle Care Bot 200ml</td>\n",
       "      <td>39</td>\n",
       "      <td>1289</td>\n",
       "    </tr>\n",
       "    <tr>\n",
       "      <td>197</td>\n",
       "      <td>1601</td>\n",
       "      <td>6Good Oil Be Gone Micellar Water Skin Face</td>\n",
       "      <td>6Good Shampoo Gentle Care Bot 400ml</td>\n",
       "      <td>44</td>\n",
       "      <td>1098</td>\n",
       "    </tr>\n",
       "    <tr>\n",
       "      <td>222</td>\n",
       "      <td>1601</td>\n",
       "      <td>6Good Oil Be Gone Micellar Water Skin Face</td>\n",
       "      <td>6Good Shampoo Gentle Care Bot 200ml</td>\n",
       "      <td>44</td>\n",
       "      <td>753</td>\n",
       "    </tr>\n",
       "    <tr>\n",
       "      <td>994</td>\n",
       "      <td>1602</td>\n",
       "      <td>6Good Purifying Charcoal Skin Face</td>\n",
       "      <td>6Good Co Scalp Hydration Bot 400ml</td>\n",
       "      <td>32</td>\n",
       "      <td>2398</td>\n",
       "    </tr>\n",
       "    <tr>\n",
       "      <td>233</td>\n",
       "      <td>1602</td>\n",
       "      <td>6Good Purifying Charcoal Skin Face</td>\n",
       "      <td>6Good Co Gentle Care Bot 400ml</td>\n",
       "      <td>41</td>\n",
       "      <td>1835</td>\n",
       "    </tr>\n",
       "    <tr>\n",
       "      <td>466</td>\n",
       "      <td>1602</td>\n",
       "      <td>6Good Purifying Charcoal Skin Face</td>\n",
       "      <td>6Good Co Gentle Care Bot 200ml</td>\n",
       "      <td>41</td>\n",
       "      <td>1289</td>\n",
       "    </tr>\n",
       "    <tr>\n",
       "      <td>176</td>\n",
       "      <td>1617</td>\n",
       "      <td>6Good Biodegradable Cleansing Skin Face</td>\n",
       "      <td>6Good Shampoo Gentle Care Bot 400ml</td>\n",
       "      <td>38</td>\n",
       "      <td>1098</td>\n",
       "    </tr>\n",
       "    <tr>\n",
       "      <td>227</td>\n",
       "      <td>1617</td>\n",
       "      <td>6Good Biodegradable Cleansing Skin Face</td>\n",
       "      <td>6Good Co Gentle Care Bot 400ml</td>\n",
       "      <td>41</td>\n",
       "      <td>1835</td>\n",
       "    </tr>\n",
       "    <tr>\n",
       "      <td>449</td>\n",
       "      <td>1617</td>\n",
       "      <td>6Good Biodegradable Cleansing Skin Face</td>\n",
       "      <td>6Good Co Gentle Care Bot 200ml</td>\n",
       "      <td>41</td>\n",
       "      <td>1289</td>\n",
       "    </tr>\n",
       "  </tbody>\n",
       "</table>\n",
       "</div>"
      ],
      "text/plain": [
       "      ret_prod_id                                                                          Product_Description                          Description Ratio  prod_id\n",
       "452   1474         6Good Skin Quench Sleeping Cream Skin Face                                                   6Good Co Gentle Care Bot 200ml       48    1289   \n",
       "1277  1482         Cbvery Keratin Hair Conditioner                                                              Cbv Inco Leave on Keratin 120ml      52    1778   \n",
       "1278  1482         Cbvery Keratin Hair Conditioner                                                              Cbv Inco Leave on Keratin 120ml      52    1779   \n",
       "1269  1482         Cbvery Keratin Hair Conditioner                                                              Cbv Hs Finishing Spr Keratin 200ml   58    846    \n",
       "1270  1482         Cbvery Keratin Hair Conditioner                                                              Cbv Hs Finishing Spr Keratin 200ml   58    847    \n",
       "1271  1482         Cbvery Keratin Hair Conditioner                                                              Cbv Hs Finishing Spr Keratin 200ml   58    846    \n",
       "1272  1482         Cbvery Keratin Hair Conditioner                                                              Cbv Hs Finishing Spr Keratin 200ml   58    847    \n",
       "14    1493         Cbvery Freeze Hold 24 hour frizz control Hairspray for a professional look 400 ml pack of 6  Cbv Hairspray Freeze Hold 100ml      81    1385   \n",
       "59    1493         Cbvery Freeze Hold 24 hour frizz control Hairspray for a professional look 400 ml pack of 6  Cbv Hairspray Freeze Hold 250ml      81    1441   \n",
       "11    1493         Cbvery Freeze Hold 24 hour frizz control Hairspray for a professional look 400 ml pack of 6  Cbvery Hairspray Freeze Hold 400ml   90    489    \n",
       "376   1494         Cbvery Botanique Nourish Hair Shampoo                                                        Cbv Shampoo Botanique Damage 400ml   67    2003   \n",
       "367   1494         Cbvery Botanique Nourish Hair Shampoo                                                        Cbv Shampoo Botanique Nourish 400ml  83    887    \n",
       "372   1494         Cbvery Botanique Nourish Hair Shampoo                                                        Cbv Shampoo Botanique Nourish 700ml  83    1952   \n",
       "1227  1592         Twicebeaut Coconut Water & Mimosa Flower Hydro Gel 250 ML                                    Twicebeaut Shamp 400ml Bot Hydra     53    1568   \n",
       "1239  1592         Twicebeaut Coconut Water & Mimosa Flower Hydro Gel 250 ML                                    Twicebeaut Cond 500ml Bot Hydrat     55    2350   \n",
       "1240  1592         Twicebeaut Coconut Water & Mimosa Flower Hydro Gel 250 ML                                    Twicebeaut Cond 500ml Bot Hydrat     55    2349   \n",
       "1241  1592         Twicebeaut Coconut Water & Mimosa Flower Hydro Gel 250 ML                                    Twicebeaut Cond 500ml Bot Hydrat     55    2350   \n",
       "1242  1592         Twicebeaut Coconut Water & Mimosa Flower Hydro Gel 250 ML                                    Twicebeaut Cond 500ml Bot Hydrat     55    2349   \n",
       "985   1600         6Good SOS Clearing Booster Skin Face                                                         6Good Co Scalp Hydration Bot 400ml   46    2398   \n",
       "186   1600         6Good SOS Clearing Booster Skin Face                                                         6Good Shampoo Gentle Care Bot 400ml  51    1098   \n",
       "217   1600         6Good SOS Clearing Booster Skin Face                                                         6Good Shampoo Gentle Care Bot 200ml  51    753    \n",
       "468   1601         6Good Oil Be Gone Micellar Water Skin Face                                                   6Good Co Gentle Care Bot 200ml       39    1289   \n",
       "197   1601         6Good Oil Be Gone Micellar Water Skin Face                                                   6Good Shampoo Gentle Care Bot 400ml  44    1098   \n",
       "222   1601         6Good Oil Be Gone Micellar Water Skin Face                                                   6Good Shampoo Gentle Care Bot 200ml  44    753    \n",
       "994   1602         6Good Purifying Charcoal Skin Face                                                           6Good Co Scalp Hydration Bot 400ml   32    2398   \n",
       "233   1602         6Good Purifying Charcoal Skin Face                                                           6Good Co Gentle Care Bot 400ml       41    1835   \n",
       "466   1602         6Good Purifying Charcoal Skin Face                                                           6Good Co Gentle Care Bot 200ml       41    1289   \n",
       "176   1617         6Good Biodegradable Cleansing Skin Face                                                      6Good Shampoo Gentle Care Bot 400ml  38    1098   \n",
       "227   1617         6Good Biodegradable Cleansing Skin Face                                                      6Good Co Gentle Care Bot 400ml       41    1835   \n",
       "449   1617         6Good Biodegradable Cleansing Skin Face                                                      6Good Co Gentle Care Bot 200ml       41    1289   "
      ]
     },
     "execution_count": 35,
     "metadata": {},
     "output_type": "execute_result"
    }
   ],
   "source": [
    "rt_df.tail(30)"
   ]
  },
  {
   "cell_type": "code",
   "execution_count": 36,
   "metadata": {},
   "outputs": [
    {
     "data": {
      "text/plain": [
       "1379"
      ]
     },
     "execution_count": 36,
     "metadata": {},
     "output_type": "execute_result"
    }
   ],
   "source": [
    "len(rt_df)"
   ]
  },
  {
   "cell_type": "code",
   "execution_count": 37,
   "metadata": {},
   "outputs": [
    {
     "data": {
      "text/plain": [
       "62.22697606961567"
      ]
     },
     "execution_count": 37,
     "metadata": {},
     "output_type": "execute_result"
    }
   ],
   "source": [
    "sum(rt_df['Ratio'].astype(int))/len(rt_df)"
   ]
  }
 ],
 "metadata": {
  "kernelspec": {
   "display_name": "Python 3",
   "language": "python",
   "name": "python3"
  },
  "language_info": {
   "codemirror_mode": {
    "name": "ipython",
    "version": 3
   },
   "file_extension": ".py",
   "mimetype": "text/x-python",
   "name": "python",
   "nbconvert_exporter": "python",
   "pygments_lexer": "ipython3",
   "version": "3.6.8"
  }
 },
 "nbformat": 4,
 "nbformat_minor": 2
}
