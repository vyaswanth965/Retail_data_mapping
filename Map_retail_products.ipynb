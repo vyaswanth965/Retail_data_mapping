{
 "cells": [
  {
   "cell_type": "code",
   "execution_count": 1,
   "metadata": {},
   "outputs": [],
   "source": [
    "import pandas as pd"
   ]
  },
  {
   "cell_type": "code",
   "execution_count": 2,
   "metadata": {},
   "outputs": [],
   "source": [
    "mf_df = pd.read_excel('manuf_data.xlsx') \n",
    "rt_df = pd.read_excel('retailer_data.xlsx') "
   ]
  },
  {
   "cell_type": "code",
   "execution_count": 3,
   "metadata": {},
   "outputs": [
    {
     "data": {
      "text/html": [
       "<div>\n",
       "<style scoped>\n",
       "    .dataframe tbody tr th:only-of-type {\n",
       "        vertical-align: middle;\n",
       "    }\n",
       "\n",
       "    .dataframe tbody tr th {\n",
       "        vertical-align: top;\n",
       "    }\n",
       "\n",
       "    .dataframe thead th {\n",
       "        text-align: right;\n",
       "    }\n",
       "</style>\n",
       "<table border=\"1\" class=\"dataframe\">\n",
       "  <thead>\n",
       "    <tr style=\"text-align: right;\">\n",
       "      <th></th>\n",
       "      <th>prod_id</th>\n",
       "      <th>Description</th>\n",
       "    </tr>\n",
       "  </thead>\n",
       "  <tbody>\n",
       "    <tr>\n",
       "      <td>0</td>\n",
       "      <td>355</td>\n",
       "      <td>Mexifiz Shampoo Intensive Repair 400ml</td>\n",
       "    </tr>\n",
       "    <tr>\n",
       "      <td>1</td>\n",
       "      <td>356</td>\n",
       "      <td>Mexifiz Shampoo Intensive Repair 400ml</td>\n",
       "    </tr>\n",
       "    <tr>\n",
       "      <td>2</td>\n",
       "      <td>381</td>\n",
       "      <td>Cbv Shampoo Moisture Rich 900ml</td>\n",
       "    </tr>\n",
       "    <tr>\n",
       "      <td>3</td>\n",
       "      <td>382</td>\n",
       "      <td>Cbv Shampoo Moisture Rich 900ml</td>\n",
       "    </tr>\n",
       "    <tr>\n",
       "      <td>4</td>\n",
       "      <td>426</td>\n",
       "      <td>Cbvery Hairspray Extra Hold 400ml</td>\n",
       "    </tr>\n",
       "  </tbody>\n",
       "</table>\n",
       "</div>"
      ],
      "text/plain": [
       "   prod_id                             Description\n",
       "0      355  Mexifiz Shampoo Intensive Repair 400ml\n",
       "1      356  Mexifiz Shampoo Intensive Repair 400ml\n",
       "2      381         Cbv Shampoo Moisture Rich 900ml\n",
       "3      382         Cbv Shampoo Moisture Rich 900ml\n",
       "4      426       Cbvery Hairspray Extra Hold 400ml"
      ]
     },
     "execution_count": 3,
     "metadata": {},
     "output_type": "execute_result"
    }
   ],
   "source": [
    "mf_df.head()"
   ]
  },
  {
   "cell_type": "code",
   "execution_count": 4,
   "metadata": {},
   "outputs": [
    {
     "data": {
      "text/html": [
       "<div>\n",
       "<style scoped>\n",
       "    .dataframe tbody tr th:only-of-type {\n",
       "        vertical-align: middle;\n",
       "    }\n",
       "\n",
       "    .dataframe tbody tr th {\n",
       "        vertical-align: top;\n",
       "    }\n",
       "\n",
       "    .dataframe thead th {\n",
       "        text-align: right;\n",
       "    }\n",
       "</style>\n",
       "<table border=\"1\" class=\"dataframe\">\n",
       "  <thead>\n",
       "    <tr style=\"text-align: right;\">\n",
       "      <th></th>\n",
       "      <th>ret_prod_id</th>\n",
       "      <th>Product_Description</th>\n",
       "    </tr>\n",
       "  </thead>\n",
       "  <tbody>\n",
       "    <tr>\n",
       "      <td>0</td>\n",
       "      <td>188</td>\n",
       "      <td>Oddaced Give Me Moisture Shampoo 250ml</td>\n",
       "    </tr>\n",
       "    <tr>\n",
       "      <td>1</td>\n",
       "      <td>334</td>\n",
       "      <td>Cbvery Freeze Hold Hairspray 400ml</td>\n",
       "    </tr>\n",
       "    <tr>\n",
       "      <td>2</td>\n",
       "      <td>328</td>\n",
       "      <td>Cbvery Firm Hold Hairspray 400ml</td>\n",
       "    </tr>\n",
       "    <tr>\n",
       "      <td>3</td>\n",
       "      <td>203</td>\n",
       "      <td>Oddaced Ultimate Hold Hairspray 400ml</td>\n",
       "    </tr>\n",
       "    <tr>\n",
       "      <td>4</td>\n",
       "      <td>324</td>\n",
       "      <td>Cbvery Extra Hold Hairspray 400ml</td>\n",
       "    </tr>\n",
       "  </tbody>\n",
       "</table>\n",
       "</div>"
      ],
      "text/plain": [
       "   ret_prod_id                     Product_Description\n",
       "0          188  Oddaced Give Me Moisture Shampoo 250ml\n",
       "1          334      Cbvery Freeze Hold Hairspray 400ml\n",
       "2          328        Cbvery Firm Hold Hairspray 400ml\n",
       "3          203   Oddaced Ultimate Hold Hairspray 400ml\n",
       "4          324       Cbvery Extra Hold Hairspray 400ml"
      ]
     },
     "execution_count": 4,
     "metadata": {},
     "output_type": "execute_result"
    }
   ],
   "source": [
    "rt_df.head()"
   ]
  },
  {
   "cell_type": "code",
   "execution_count": 5,
   "metadata": {},
   "outputs": [
    {
     "data": {
      "text/html": [
       "<div>\n",
       "<style scoped>\n",
       "    .dataframe tbody tr th:only-of-type {\n",
       "        vertical-align: middle;\n",
       "    }\n",
       "\n",
       "    .dataframe tbody tr th {\n",
       "        vertical-align: top;\n",
       "    }\n",
       "\n",
       "    .dataframe thead th {\n",
       "        text-align: right;\n",
       "    }\n",
       "</style>\n",
       "<table border=\"1\" class=\"dataframe\">\n",
       "  <thead>\n",
       "    <tr style=\"text-align: right;\">\n",
       "      <th></th>\n",
       "      <th>prod_id</th>\n",
       "      <th>Description</th>\n",
       "    </tr>\n",
       "  </thead>\n",
       "  <tbody>\n",
       "  </tbody>\n",
       "</table>\n",
       "</div>"
      ],
      "text/plain": [
       "Empty DataFrame\n",
       "Columns: [prod_id, Description]\n",
       "Index: []"
      ]
     },
     "execution_count": 5,
     "metadata": {},
     "output_type": "execute_result"
    }
   ],
   "source": [
    "mf_df[mf_df['Description'].isna()]"
   ]
  },
  {
   "cell_type": "code",
   "execution_count": 6,
   "metadata": {},
   "outputs": [
    {
     "data": {
      "text/html": [
       "<div>\n",
       "<style scoped>\n",
       "    .dataframe tbody tr th:only-of-type {\n",
       "        vertical-align: middle;\n",
       "    }\n",
       "\n",
       "    .dataframe tbody tr th {\n",
       "        vertical-align: top;\n",
       "    }\n",
       "\n",
       "    .dataframe thead th {\n",
       "        text-align: right;\n",
       "    }\n",
       "</style>\n",
       "<table border=\"1\" class=\"dataframe\">\n",
       "  <thead>\n",
       "    <tr style=\"text-align: right;\">\n",
       "      <th></th>\n",
       "      <th>ret_prod_id</th>\n",
       "      <th>Product_Description</th>\n",
       "    </tr>\n",
       "  </thead>\n",
       "  <tbody>\n",
       "  </tbody>\n",
       "</table>\n",
       "</div>"
      ],
      "text/plain": [
       "Empty DataFrame\n",
       "Columns: [ret_prod_id, Product_Description]\n",
       "Index: []"
      ]
     },
     "execution_count": 6,
     "metadata": {},
     "output_type": "execute_result"
    }
   ],
   "source": [
    "rt_df[rt_df['Product_Description'].isna()]"
   ]
  },
  {
   "cell_type": "code",
   "execution_count": 7,
   "metadata": {},
   "outputs": [
    {
     "data": {
      "text/html": [
       "<div>\n",
       "<style scoped>\n",
       "    .dataframe tbody tr th:only-of-type {\n",
       "        vertical-align: middle;\n",
       "    }\n",
       "\n",
       "    .dataframe tbody tr th {\n",
       "        vertical-align: top;\n",
       "    }\n",
       "\n",
       "    .dataframe thead th {\n",
       "        text-align: right;\n",
       "    }\n",
       "</style>\n",
       "<table border=\"1\" class=\"dataframe\">\n",
       "  <thead>\n",
       "    <tr style=\"text-align: right;\">\n",
       "      <th></th>\n",
       "      <th>prod_id</th>\n",
       "      <th>Description</th>\n",
       "    </tr>\n",
       "  </thead>\n",
       "  <tbody>\n",
       "  </tbody>\n",
       "</table>\n",
       "</div>"
      ],
      "text/plain": [
       "Empty DataFrame\n",
       "Columns: [prod_id, Description]\n",
       "Index: []"
      ]
     },
     "execution_count": 7,
     "metadata": {},
     "output_type": "execute_result"
    }
   ],
   "source": [
    "mf_df.groupby('prod_id').filter(lambda x :len(x)>1)"
   ]
  },
  {
   "cell_type": "code",
   "execution_count": 8,
   "metadata": {},
   "outputs": [
    {
     "data": {
      "text/html": [
       "<div>\n",
       "<style scoped>\n",
       "    .dataframe tbody tr th:only-of-type {\n",
       "        vertical-align: middle;\n",
       "    }\n",
       "\n",
       "    .dataframe tbody tr th {\n",
       "        vertical-align: top;\n",
       "    }\n",
       "\n",
       "    .dataframe thead th {\n",
       "        text-align: right;\n",
       "    }\n",
       "</style>\n",
       "<table border=\"1\" class=\"dataframe\">\n",
       "  <thead>\n",
       "    <tr style=\"text-align: right;\">\n",
       "      <th></th>\n",
       "      <th>ret_prod_id</th>\n",
       "      <th>Product_Description</th>\n",
       "    </tr>\n",
       "  </thead>\n",
       "  <tbody>\n",
       "  </tbody>\n",
       "</table>\n",
       "</div>"
      ],
      "text/plain": [
       "Empty DataFrame\n",
       "Columns: [ret_prod_id, Product_Description]\n",
       "Index: []"
      ]
     },
     "execution_count": 8,
     "metadata": {},
     "output_type": "execute_result"
    }
   ],
   "source": [
    "rt_df.groupby('ret_prod_id').filter(lambda x :len(x)>1)"
   ]
  },
  {
   "cell_type": "code",
   "execution_count": 9,
   "metadata": {},
   "outputs": [
    {
     "name": "stderr",
     "output_type": "stream",
     "text": [
      "C:\\Users\\shanthi\\Anaconda3\\lib\\site-packages\\fuzzywuzzy\\fuzz.py:11: UserWarning: Using slow pure-python SequenceMatcher. Install python-Levenshtein to remove this warning\n",
      "  warnings.warn('Using slow pure-python SequenceMatcher. Install python-Levenshtein to remove this warning')\n"
     ]
    }
   ],
   "source": [
    "from fuzzywuzzy import fuzz\n",
    "from fuzzywuzzy import process"
   ]
  },
  {
   "cell_type": "code",
   "execution_count": 10,
   "metadata": {},
   "outputs": [],
   "source": [
    "def checker(wrong_options,correct_options):\n",
    "    names_array=[]\n",
    "    for wrong_option in wrong_options:\n",
    "        if wrong_option in correct_options:\n",
    "            names_array.append(wrong_option)\n",
    "            ratio_array.append('100')\n",
    "        else:   \n",
    "            x=process.extractBests(wrong_option,correct_options,scorer=fuzz.token_set_ratio,limit=3)\n",
    "            names_array.append([str(x[i][0])+':'+str(x[i][1]) for i in range(len(x))])\n",
    "    return names_array"
   ]
  },
  {
   "cell_type": "code",
   "execution_count": 11,
   "metadata": {},
   "outputs": [],
   "source": [
    "strOptions = mf_df['Description'].tolist()\n",
    "str2Match  =rt_df['Product_Description'].tolist()"
   ]
  },
  {
   "cell_type": "code",
   "execution_count": 12,
   "metadata": {},
   "outputs": [],
   "source": [
    "name_match=checker(str2Match,strOptions)\n"
   ]
  },
  {
   "cell_type": "code",
   "execution_count": 13,
   "metadata": {},
   "outputs": [],
   "source": [
    "rt_df['Description']=name_match\n"
   ]
  },
  {
   "cell_type": "code",
   "execution_count": 14,
   "metadata": {},
   "outputs": [],
   "source": [
    "rt_df =rt_df.sort_values('ret_prod_id')"
   ]
  },
  {
   "cell_type": "code",
   "execution_count": 15,
   "metadata": {},
   "outputs": [],
   "source": [
    "rt_df=rt_df.explode('Description')"
   ]
  },
  {
   "cell_type": "code",
   "execution_count": 16,
   "metadata": {},
   "outputs": [],
   "source": [
    "n=rt_df['Description'].str.split(':',expand=True)"
   ]
  },
  {
   "cell_type": "code",
   "execution_count": 17,
   "metadata": {},
   "outputs": [],
   "source": [
    "rt_df['Description']=n[0]\n",
    "rt_df['Ratio']=n[1]"
   ]
  },
  {
   "cell_type": "code",
   "execution_count": 18,
   "metadata": {},
   "outputs": [],
   "source": [
    "rt_df=rt_df.merge(mf_df,on=['Description'])"
   ]
  },
  {
   "cell_type": "code",
   "execution_count": 19,
   "metadata": {},
   "outputs": [],
   "source": [
    "pd.set_option('display.max_columns', None)  \n",
    "pd.set_option('display.expand_frame_repr', False)\n",
    "pd.set_option('max_colwidth', -1)"
   ]
  },
  {
   "cell_type": "code",
   "execution_count": 20,
   "metadata": {},
   "outputs": [
    {
     "data": {
      "text/html": [
       "<div>\n",
       "<style scoped>\n",
       "    .dataframe tbody tr th:only-of-type {\n",
       "        vertical-align: middle;\n",
       "    }\n",
       "\n",
       "    .dataframe tbody tr th {\n",
       "        vertical-align: top;\n",
       "    }\n",
       "\n",
       "    .dataframe thead th {\n",
       "        text-align: right;\n",
       "    }\n",
       "</style>\n",
       "<table border=\"1\" class=\"dataframe\">\n",
       "  <thead>\n",
       "    <tr style=\"text-align: right;\">\n",
       "      <th></th>\n",
       "      <th>ret_prod_id</th>\n",
       "      <th>Product_Description</th>\n",
       "      <th>Description</th>\n",
       "      <th>Ratio</th>\n",
       "      <th>prod_id</th>\n",
       "    </tr>\n",
       "  </thead>\n",
       "  <tbody>\n",
       "    <tr>\n",
       "      <td>0</td>\n",
       "      <td>188</td>\n",
       "      <td>Oddaced Give Me Moisture Shampoo 250ml</td>\n",
       "      <td>Oddaced Shampoo Give Me Moisture 250ml</td>\n",
       "      <td>100</td>\n",
       "      <td>1423</td>\n",
       "    </tr>\n",
       "    <tr>\n",
       "      <td>1</td>\n",
       "      <td>220</td>\n",
       "      <td>Oddaced Nourish My Shine Shampoo 250ml</td>\n",
       "      <td>Oddaced Shampoo Give Me Moisture 250ml</td>\n",
       "      <td>74</td>\n",
       "      <td>1423</td>\n",
       "    </tr>\n",
       "    <tr>\n",
       "      <td>2</td>\n",
       "      <td>611</td>\n",
       "      <td>Oddaced Refresh Dry Shampoo 250ml</td>\n",
       "      <td>Oddaced Shampoo Give Me Moisture 250ml</td>\n",
       "      <td>78</td>\n",
       "      <td>1423</td>\n",
       "    </tr>\n",
       "    <tr>\n",
       "      <td>3</td>\n",
       "      <td>187</td>\n",
       "      <td>Oddaced Smooth Hair Shampoo 250ml</td>\n",
       "      <td>Oddaced Shampoo Give Me Moisture 250ml</td>\n",
       "      <td>78</td>\n",
       "      <td>1423</td>\n",
       "    </tr>\n",
       "    <tr>\n",
       "      <td>4</td>\n",
       "      <td>127</td>\n",
       "      <td>Oddaced Give Me Moisture Hair Conditioner 250ml</td>\n",
       "      <td>Oddaced Shampoo Give Me Moisture 250ml</td>\n",
       "      <td>88</td>\n",
       "      <td>1423</td>\n",
       "    </tr>\n",
       "    <tr>\n",
       "      <td>5</td>\n",
       "      <td>188</td>\n",
       "      <td>Oddaced Give Me Moisture Shampoo 250ml</td>\n",
       "      <td>Oddaced Co Give Me Moisture Bot 250ml</td>\n",
       "      <td>90</td>\n",
       "      <td>1553</td>\n",
       "    </tr>\n",
       "    <tr>\n",
       "      <td>6</td>\n",
       "      <td>127</td>\n",
       "      <td>Oddaced Give Me Moisture Hair Conditioner 250ml</td>\n",
       "      <td>Oddaced Co Give Me Moisture Bot 250ml</td>\n",
       "      <td>90</td>\n",
       "      <td>1553</td>\n",
       "    </tr>\n",
       "    <tr>\n",
       "      <td>7</td>\n",
       "      <td>397</td>\n",
       "      <td>Twicebeaut Muru Muru Butter &amp; Rose Bountiful moisture Shower Gel 500 ML</td>\n",
       "      <td>Oddaced Co Give Me Moisture Bot 250ml</td>\n",
       "      <td>51</td>\n",
       "      <td>1553</td>\n",
       "    </tr>\n",
       "    <tr>\n",
       "      <td>8</td>\n",
       "      <td>188</td>\n",
       "      <td>Oddaced Give Me Moisture Shampoo 250ml</td>\n",
       "      <td>Oddaced Shampoo Std Moisture 400ml</td>\n",
       "      <td>83</td>\n",
       "      <td>1173</td>\n",
       "    </tr>\n",
       "    <tr>\n",
       "      <td>9</td>\n",
       "      <td>220</td>\n",
       "      <td>Oddaced Nourish My Shine Shampoo 250ml</td>\n",
       "      <td>Oddaced Shampoo Std Moisture 400ml</td>\n",
       "      <td>72</td>\n",
       "      <td>1173</td>\n",
       "    </tr>\n",
       "    <tr>\n",
       "      <td>10</td>\n",
       "      <td>1308</td>\n",
       "      <td>Oddaced Nourish Hair Shampoo</td>\n",
       "      <td>Oddaced Shampoo Std Moisture 400ml</td>\n",
       "      <td>70</td>\n",
       "      <td>1173</td>\n",
       "    </tr>\n",
       "    <tr>\n",
       "      <td>11</td>\n",
       "      <td>383</td>\n",
       "      <td>Parrot Gold Trio with Shower Speaker 4 Piece Gift Set</td>\n",
       "      <td>Oddaced Shampoo Std Moisture 400ml</td>\n",
       "      <td>39</td>\n",
       "      <td>1173</td>\n",
       "    </tr>\n",
       "    <tr>\n",
       "      <td>12</td>\n",
       "      <td>334</td>\n",
       "      <td>Cbvery Freeze Hold Hairspray 400ml</td>\n",
       "      <td>Cbvery Hairspray Freeze Hold 400ml</td>\n",
       "      <td>100</td>\n",
       "      <td>489</td>\n",
       "    </tr>\n",
       "    <tr>\n",
       "      <td>13</td>\n",
       "      <td>328</td>\n",
       "      <td>Cbvery Firm Hold Hairspray 400ml</td>\n",
       "      <td>Cbvery Hairspray Freeze Hold 400ml</td>\n",
       "      <td>92</td>\n",
       "      <td>489</td>\n",
       "    </tr>\n",
       "    <tr>\n",
       "      <td>14</td>\n",
       "      <td>324</td>\n",
       "      <td>Cbvery Extra Hold Hairspray 400ml</td>\n",
       "      <td>Cbvery Hairspray Freeze Hold 400ml</td>\n",
       "      <td>90</td>\n",
       "      <td>489</td>\n",
       "    </tr>\n",
       "    <tr>\n",
       "      <td>15</td>\n",
       "      <td>136</td>\n",
       "      <td>Cbvery Freeze Hold Hairspray 250ml</td>\n",
       "      <td>Cbvery Hairspray Freeze Hold 400ml</td>\n",
       "      <td>94</td>\n",
       "      <td>489</td>\n",
       "    </tr>\n",
       "    <tr>\n",
       "      <td>16</td>\n",
       "      <td>325</td>\n",
       "      <td>Cbvery Ultimate Hold Hairspray 400ml</td>\n",
       "      <td>Cbvery Hairspray Freeze Hold 400ml</td>\n",
       "      <td>89</td>\n",
       "      <td>489</td>\n",
       "    </tr>\n",
       "    <tr>\n",
       "      <td>17</td>\n",
       "      <td>1493</td>\n",
       "      <td>Cbvery Freeze Hold 24 hour frizz control Hairspray for a professional look 400 ml pack of 6</td>\n",
       "      <td>Cbvery Hairspray Freeze Hold 400ml</td>\n",
       "      <td>90</td>\n",
       "      <td>489</td>\n",
       "    </tr>\n",
       "    <tr>\n",
       "      <td>18</td>\n",
       "      <td>334</td>\n",
       "      <td>Cbvery Freeze Hold Hairspray 400ml</td>\n",
       "      <td>Cbvery Hairspray Firm Hold 400ml</td>\n",
       "      <td>92</td>\n",
       "      <td>1018</td>\n",
       "    </tr>\n",
       "    <tr>\n",
       "      <td>19</td>\n",
       "      <td>328</td>\n",
       "      <td>Cbvery Firm Hold Hairspray 400ml</td>\n",
       "      <td>Cbvery Hairspray Firm Hold 400ml</td>\n",
       "      <td>100</td>\n",
       "      <td>1018</td>\n",
       "    </tr>\n",
       "    <tr>\n",
       "      <td>20</td>\n",
       "      <td>324</td>\n",
       "      <td>Cbvery Extra Hold Hairspray 400ml</td>\n",
       "      <td>Cbvery Hairspray Firm Hold 400ml</td>\n",
       "      <td>92</td>\n",
       "      <td>1018</td>\n",
       "    </tr>\n",
       "    <tr>\n",
       "      <td>21</td>\n",
       "      <td>325</td>\n",
       "      <td>Cbvery Ultimate Hold Hairspray 400ml</td>\n",
       "      <td>Cbvery Hairspray Firm Hold 400ml</td>\n",
       "      <td>92</td>\n",
       "      <td>1018</td>\n",
       "    </tr>\n",
       "    <tr>\n",
       "      <td>22</td>\n",
       "      <td>103</td>\n",
       "      <td>Cbvery Ultimate Hold Hairspray 250ml</td>\n",
       "      <td>Cbvery Hairspray Firm Hold 400ml</td>\n",
       "      <td>82</td>\n",
       "      <td>1018</td>\n",
       "    </tr>\n",
       "    <tr>\n",
       "      <td>23</td>\n",
       "      <td>1356</td>\n",
       "      <td>Toz For Dry Hair Masque 190g</td>\n",
       "      <td>Cbvery Hairspray Firm Hold 400ml</td>\n",
       "      <td>47</td>\n",
       "      <td>1018</td>\n",
       "    </tr>\n",
       "    <tr>\n",
       "      <td>24</td>\n",
       "      <td>334</td>\n",
       "      <td>Cbvery Freeze Hold Hairspray 400ml</td>\n",
       "      <td>Cbv Hairspray Freeze Hold 100ml</td>\n",
       "      <td>92</td>\n",
       "      <td>1385</td>\n",
       "    </tr>\n",
       "    <tr>\n",
       "      <td>25</td>\n",
       "      <td>136</td>\n",
       "      <td>Cbvery Freeze Hold Hairspray 250ml</td>\n",
       "      <td>Cbv Hairspray Freeze Hold 100ml</td>\n",
       "      <td>89</td>\n",
       "      <td>1385</td>\n",
       "    </tr>\n",
       "    <tr>\n",
       "      <td>26</td>\n",
       "      <td>1493</td>\n",
       "      <td>Cbvery Freeze Hold 24 hour frizz control Hairspray for a professional look 400 ml pack of 6</td>\n",
       "      <td>Cbv Hairspray Freeze Hold 100ml</td>\n",
       "      <td>81</td>\n",
       "      <td>1385</td>\n",
       "    </tr>\n",
       "    <tr>\n",
       "      <td>27</td>\n",
       "      <td>328</td>\n",
       "      <td>Cbvery Firm Hold Hairspray 400ml</td>\n",
       "      <td>Cbvery Hairspray Extra Hold 400ml</td>\n",
       "      <td>92</td>\n",
       "      <td>426</td>\n",
       "    </tr>\n",
       "    <tr>\n",
       "      <td>28</td>\n",
       "      <td>324</td>\n",
       "      <td>Cbvery Extra Hold Hairspray 400ml</td>\n",
       "      <td>Cbvery Hairspray Extra Hold 400ml</td>\n",
       "      <td>100</td>\n",
       "      <td>426</td>\n",
       "    </tr>\n",
       "    <tr>\n",
       "      <td>29</td>\n",
       "      <td>325</td>\n",
       "      <td>Cbvery Ultimate Hold Hairspray 400ml</td>\n",
       "      <td>Cbvery Hairspray Extra Hold 400ml</td>\n",
       "      <td>90</td>\n",
       "      <td>426</td>\n",
       "    </tr>\n",
       "  </tbody>\n",
       "</table>\n",
       "</div>"
      ],
      "text/plain": [
       "    ret_prod_id                                                                          Product_Description                             Description Ratio  prod_id\n",
       "0   188          Oddaced Give Me Moisture Shampoo 250ml                                                       Oddaced Shampoo Give Me Moisture 250ml  100   1423   \n",
       "1   220          Oddaced Nourish My Shine Shampoo 250ml                                                       Oddaced Shampoo Give Me Moisture 250ml  74    1423   \n",
       "2   611          Oddaced Refresh Dry Shampoo 250ml                                                            Oddaced Shampoo Give Me Moisture 250ml  78    1423   \n",
       "3   187          Oddaced Smooth Hair Shampoo 250ml                                                            Oddaced Shampoo Give Me Moisture 250ml  78    1423   \n",
       "4   127          Oddaced Give Me Moisture Hair Conditioner 250ml                                              Oddaced Shampoo Give Me Moisture 250ml  88    1423   \n",
       "5   188          Oddaced Give Me Moisture Shampoo 250ml                                                       Oddaced Co Give Me Moisture Bot 250ml   90    1553   \n",
       "6   127          Oddaced Give Me Moisture Hair Conditioner 250ml                                              Oddaced Co Give Me Moisture Bot 250ml   90    1553   \n",
       "7   397          Twicebeaut Muru Muru Butter & Rose Bountiful moisture Shower Gel 500 ML                      Oddaced Co Give Me Moisture Bot 250ml   51    1553   \n",
       "8   188          Oddaced Give Me Moisture Shampoo 250ml                                                       Oddaced Shampoo Std Moisture 400ml      83    1173   \n",
       "9   220          Oddaced Nourish My Shine Shampoo 250ml                                                       Oddaced Shampoo Std Moisture 400ml      72    1173   \n",
       "10  1308         Oddaced Nourish Hair Shampoo                                                                 Oddaced Shampoo Std Moisture 400ml      70    1173   \n",
       "11  383          Parrot Gold Trio with Shower Speaker 4 Piece Gift Set                                        Oddaced Shampoo Std Moisture 400ml      39    1173   \n",
       "12  334          Cbvery Freeze Hold Hairspray 400ml                                                           Cbvery Hairspray Freeze Hold 400ml      100   489    \n",
       "13  328          Cbvery Firm Hold Hairspray 400ml                                                             Cbvery Hairspray Freeze Hold 400ml      92    489    \n",
       "14  324          Cbvery Extra Hold Hairspray 400ml                                                            Cbvery Hairspray Freeze Hold 400ml      90    489    \n",
       "15  136          Cbvery Freeze Hold Hairspray 250ml                                                           Cbvery Hairspray Freeze Hold 400ml      94    489    \n",
       "16  325          Cbvery Ultimate Hold Hairspray 400ml                                                         Cbvery Hairspray Freeze Hold 400ml      89    489    \n",
       "17  1493         Cbvery Freeze Hold 24 hour frizz control Hairspray for a professional look 400 ml pack of 6  Cbvery Hairspray Freeze Hold 400ml      90    489    \n",
       "18  334          Cbvery Freeze Hold Hairspray 400ml                                                           Cbvery Hairspray Firm Hold 400ml        92    1018   \n",
       "19  328          Cbvery Firm Hold Hairspray 400ml                                                             Cbvery Hairspray Firm Hold 400ml        100   1018   \n",
       "20  324          Cbvery Extra Hold Hairspray 400ml                                                            Cbvery Hairspray Firm Hold 400ml        92    1018   \n",
       "21  325          Cbvery Ultimate Hold Hairspray 400ml                                                         Cbvery Hairspray Firm Hold 400ml        92    1018   \n",
       "22  103          Cbvery Ultimate Hold Hairspray 250ml                                                         Cbvery Hairspray Firm Hold 400ml        82    1018   \n",
       "23  1356         Toz For Dry Hair Masque 190g                                                                 Cbvery Hairspray Firm Hold 400ml        47    1018   \n",
       "24  334          Cbvery Freeze Hold Hairspray 400ml                                                           Cbv Hairspray Freeze Hold 100ml         92    1385   \n",
       "25  136          Cbvery Freeze Hold Hairspray 250ml                                                           Cbv Hairspray Freeze Hold 100ml         89    1385   \n",
       "26  1493         Cbvery Freeze Hold 24 hour frizz control Hairspray for a professional look 400 ml pack of 6  Cbv Hairspray Freeze Hold 100ml         81    1385   \n",
       "27  328          Cbvery Firm Hold Hairspray 400ml                                                             Cbvery Hairspray Extra Hold 400ml       92    426    \n",
       "28  324          Cbvery Extra Hold Hairspray 400ml                                                            Cbvery Hairspray Extra Hold 400ml       100   426    \n",
       "29  325          Cbvery Ultimate Hold Hairspray 400ml                                                         Cbvery Hairspray Extra Hold 400ml       90    426    "
      ]
     },
     "execution_count": 20,
     "metadata": {},
     "output_type": "execute_result"
    }
   ],
   "source": [
    "rt_df.head(30)"
   ]
  }
 ],
 "metadata": {
  "kernelspec": {
   "display_name": "Python 3",
   "language": "python",
   "name": "python3"
  },
  "language_info": {
   "codemirror_mode": {
    "name": "ipython",
    "version": 3
   },
   "file_extension": ".py",
   "mimetype": "text/x-python",
   "name": "python",
   "nbconvert_exporter": "python",
   "pygments_lexer": "ipython3",
   "version": "3.6.8"
  }
 },
 "nbformat": 4,
 "nbformat_minor": 2
}
